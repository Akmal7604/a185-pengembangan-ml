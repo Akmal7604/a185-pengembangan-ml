{
 "cells": [
  {
   "cell_type": "code",
   "execution_count": 18,
   "metadata": {},
   "outputs": [
    {
     "name": "stdout",
     "output_type": "stream",
     "text": [
      "Error: Failed to get a valid response.\n",
      "Status Code: 400\n",
      "Response Body: {\n",
      "    \"error\": \"Could not find variable block_1_expand_BN/beta. This could mean that the variable has been deleted. In TF1, it can also mean the variable is uninitialized. Debug info: container=localhost, status error message=Resource localhost/block_1_expand_BN/beta/N10tensorflow3VarE does not exist.\\n\\t [[{{function_node __inference_serving_default_14728}}{{node functional_1/block_1_expand_BN_1/Cast_3/ReadVariableOp}}]]\"\n",
      "}\n"
     ]
    }
   ],
   "source": [
    "import requests\n",
    "import tensorflow as tf\n",
    "\n",
    "\n",
    "\n",
    "# --------- Kolom fungsi image_preprocessing ------------\n",
    "def images_preprocessing(filename):\n",
    "   \n",
    "    image = tf.io.decode_image(open(filename, 'rb').read(), channels=3)\n",
    "    image = tf.image.resize(image, [150, 150])\n",
    "    image = image/255.\n",
    "   \n",
    "    image_tensor = tf.expand_dims(image, 0)\n",
    "    image_tensor = image_tensor.numpy().tolist()\n",
    "   \n",
    "    return image_tensor\n",
    " \n",
    "filename = 'images\\Batu_b.jpg'\n",
    "image_tensor = images_preprocessing(filename=filename)\n",
    "# -------------------------------------------------------\n",
    "\n",
    "\n",
    "# Prepare the data that is going to be sent in the POST request\n",
    "# ------------ Kolom persiapan data--------------\n",
    "json_data = {\n",
    "    \"instances\": image_tensor\n",
    "}\n",
    "\n",
    "\n",
    "# -------------------------------------------------------\n",
    "\n",
    "\n",
    "# ------------ Kolom meminta request prediksi--------------\n",
    "# Define the endpoint with format: http://localhost:8501/v1/models/MODEL_NAME:predict\n",
    "endpoint = \"http://localhost:8501/v1/models/rps_model:predict\"\n",
    " \n",
    "response = requests.post(endpoint, json=json_data)  \n",
    "\n",
    "# Check the response  \n",
    "if response.status_code == 200:  \n",
    "    response_data = response.json()  \n",
    "    if 'predictions' in response_data:  \n",
    "        prediction = tf.argmax(response_data['predictions'][0]).numpy()  \n",
    "        map_labels = {0: \"Paper\", 1: \"Rock\", 2: \"Scissors\"}  \n",
    "        print(map_labels[prediction])  \n",
    "    else:  \n",
    "        print(\"Error: 'predictions' key not found in the response.\")  \n",
    "        print(\"Response Data:\", response_data)  \n",
    "else:  \n",
    "    print(\"Error: Failed to get a valid response.\")  \n",
    "    print(\"Status Code:\", response.status_code)  \n",
    "    print(\"Response Body:\", response.text) \n",
    "# -------------------------------------------------------\n",
    "\n"
   ]
  },
  {
   "cell_type": "code",
   "execution_count": null,
   "metadata": {},
   "outputs": [],
   "source": []
  }
 ],
 "metadata": {
  "kernelspec": {
   "display_name": "Python 3",
   "language": "python",
   "name": "python3"
  },
  "language_info": {
   "codemirror_mode": {
    "name": "ipython",
    "version": 3
   },
   "file_extension": ".py",
   "mimetype": "text/x-python",
   "name": "python",
   "nbconvert_exporter": "python",
   "pygments_lexer": "ipython3",
   "version": "3.9.5"
  },
  "orig_nbformat": 4
 },
 "nbformat": 4,
 "nbformat_minor": 2
}
